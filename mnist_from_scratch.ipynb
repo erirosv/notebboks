{
 "cells": [
  {
   "cell_type": "markdown",
   "metadata": {},
   "source": [
    "# MNIST - playing around\n",
    "\n",
    "data source: http://yann.lecun.com/exdb/mnist/ "
   ]
  },
  {
   "cell_type": "code",
   "execution_count": 31,
   "metadata": {},
   "outputs": [],
   "source": [
    "# initialize libs\n",
    "import numpy as np\n",
    "import matplotlib.pyplot as plt\n",
    "from tqdm import trange\n",
    "from tqdm.auto import trange\n",
    "np.set_printoptions(suppress=True)\n",
    "\n",
    "# torch libs\n",
    "import torch\n",
    "import torch.nn as nn \n",
    "import torch.nn.functional as F\n",
    "torch.set_printoptions(sci_mode=False)\n",
    "\n",
    "# load data libs\n",
    "import requests\n",
    "import gzip\n",
    "import os\n",
    "import hashlib\n"
   ]
  },
  {
   "cell_type": "code",
   "execution_count": 32,
   "metadata": {},
   "outputs": [],
   "source": [
    "def get_data(url):\n",
    "    file_path = os.path.join('/tmp', hashlib.md5(url.encode('utf-8')).hexdigest())\n",
    "    if os.path.isfile(file_path):\n",
    "        with open (file_path, 'rb') as f:\n",
    "            data = f.read()\n",
    "    else:\n",
    "        with open(file_path, 'wb') as f:\n",
    "            data = requests.get(url).content\n",
    "            f.write(data)\n",
    "    return np.frombuffer(gzip.decompress(data), dtype = np.uint8).copy()"
   ]
  },
  {
   "cell_type": "code",
   "execution_count": 33,
   "metadata": {},
   "outputs": [],
   "source": [
    "x_train = get_data(\"http://yann.lecun.com/exdb/mnist/train-images-idx3-ubyte.gz\")[0x10:].reshape((-1, 28, 28))\n",
    "y_train = get_data(\"http://yann.lecun.com/exdb/mnist/train-labels-idx1-ubyte.gz\")[8:]\n",
    "x_test = get_data(\"http://yann.lecun.com/exdb/mnist/t10k-images-idx3-ubyte.gz\")[0x10:].reshape((-1, 28, 28))\n",
    "y_test = get_data(\"http://yann.lecun.com/exdb/mnist/t10k-labels-idx1-ubyte.gz\")[8:]"
   ]
  },
  {
   "cell_type": "code",
   "execution_count": 34,
   "metadata": {},
   "outputs": [
    {
     "data": {
      "text/plain": [
       "(dtype('float32'), dtype('float32'))"
      ]
     },
     "execution_count": 34,
     "metadata": {},
     "output_type": "execute_result"
    }
   ],
   "source": [
    "# making the sam layer from torch with numpy\n",
    "layer_1 = np.zeros((784, 128), dtype=np.float32)\n",
    "layer_2 = np.zeros((128, 10), dtype=np.float32)\n",
    "\n",
    "# checking the types\n",
    "(layer_1.dtype, layer_2.dtype)"
   ]
  },
  {
   "cell_type": "markdown",
   "metadata": {},
   "source": [
    "### Methods"
   ]
  },
  {
   "cell_type": "code",
   "execution_count": 35,
   "metadata": {},
   "outputs": [],
   "source": [
    "def forward(x):\n",
    "    x = x.dot(layer_1)\n",
    "    x = np.maximum(x, 0)\n",
    "    x = x.dot(layer_2)\n",
    "    return x\n",
    "\n",
    "def forward_backwards(x, y):\n",
    "    # define training \n",
    "    ret = np.zeros((len(y), 10), np.float32)\n",
    "    ret[range(ret.shape[0]), y] = 1\n",
    "    \n",
    "    # --- forward\n",
    "    x_layer_1 = x.dot(layer_1)\n",
    "    relu = np.maximum(x_layer_1, 0)\n",
    "    x_layer_2 = relu.dot(layer_2) # baked in x_relu = np.maximum(x_layer_1, 0)\n",
    "    x_log_sum = x_layer_2 - log_sum_exp(x_layer_2).reshape((-1, 1))\n",
    "    loss = (-ret * x_log_sum).mean(axis=1)\n",
    "    \n",
    "    # --- derivative: log_soft_max\n",
    "    rret = -ret / len(y)\n",
    "    d_log_sum = rret - np.exp(x_log_sum) * rret.sum(axis=1).reshape((-1,1)) # derivative layer 2\n",
    "    d_relu =d_log_sum.dot(layer_2.T) \n",
    "    d_layer_2 = d_relu.T.dot(d_log_sum) # d_relu = d_log_sum.dot(layer_2.T)\n",
    "    \n",
    "    dd_layer_1 = (relu > 0).astype(np.float32) * (d_log_sum.dot(layer_2.T)) # derivative relu\n",
    "    d_layer_1 = x.T.dot(dd_layer_1) # derivative layer 1\n",
    "\n",
    "    return loss, x_layer_2, d_layer_1, d_layer_2\n",
    "\n",
    "def log_sum_exp(x):\n",
    "    return x.max(axis=1) + np.log(np.exp((x-x.max(axis=1).reshape((-1,1))).sum(axis=1)))\n",
    "\n",
    "def initialize_layer(m, h):\n",
    "    return (np.random.uniform(-1, 1, size=(m,h)) / np.sqrt(m * h)).astype(np.float32)"
   ]
  },
  {
   "cell_type": "code",
   "execution_count": 36,
   "metadata": {},
   "outputs": [
    {
     "data": {
      "text/plain": [
       "0.098"
      ]
     },
     "execution_count": 36,
     "metadata": {},
     "output_type": "execute_result"
    }
   ],
   "source": [
    "Y_test_predictions_out = forward(x_test.reshape((-1, 28*28)))\n",
    "Y_test_predictions = np.argmax(Y_test_predictions_out, axis=1)\n",
    "(y_test == Y_test_predictions).mean()"
   ]
  },
  {
   "cell_type": "code",
   "execution_count": 37,
   "metadata": {},
   "outputs": [],
   "source": [
    "ret = (-Y_test_predictions_out[range(Y_test_predictions_out.shape[0]), y_test] \n",
    "       + np.log(np.exp(Y_test_predictions_out).sum(axis=1)))\n"
   ]
  },
  {
   "cell_type": "code",
   "execution_count": 38,
   "metadata": {},
   "outputs": [
    {
     "data": {
      "text/plain": [
       "<matplotlib.image.AxesImage at 0x1683fd000>"
      ]
     },
     "execution_count": 38,
     "metadata": {},
     "output_type": "execute_result"
    },
    {
     "data": {
      "image/png": "[encoded data removed]",
      "text/plain": [
       "<Figure size 1000x1000 with 1 Axes>"
      ]
     },
     "metadata": {},
     "output_type": "display_data"
    }
   ],
   "source": [
    "# grid\n",
    "grid_var = 4\n",
    "grid = sorted(list(zip(ret, range(ret.shape[0]))), reverse=True)[0:grid_var*grid_var]\n",
    "temp = x_test[[x[1] for x in grid]]\n",
    "\n",
    "figsize(10,10)\n",
    "imshow(np.concatenate(temp.reshape((grid_var, 28*grid_var, 28)), axis=1))"
   ]
  },
  {
   "cell_type": "code",
   "execution_count": 39,
   "metadata": {},
   "outputs": [
    {
     "data": {
      "text/plain": [
       "2.3025851"
      ]
     },
     "execution_count": 39,
     "metadata": {},
     "output_type": "execute_result"
    }
   ],
   "source": [
    "sample = 1\n",
    "-Y_test_predictions_out[sample, y_test[0]] + np.log(np.exp(Y_test_predictions_out[sample]).sum())"
   ]
  },
  {
   "cell_type": "code",
   "execution_count": 40,
   "metadata": {},
   "outputs": [
    {
     "data": {
      "text/plain": [
       "array([2.3025851, 2.3025851, 2.3025851, ..., 2.3025851, 2.3025851,\n",
       "       2.3025851], dtype=float32)"
      ]
     },
     "execution_count": 40,
     "metadata": {},
     "output_type": "execute_result"
    }
   ],
   "source": [
    "-np.array([Y_test_predictions_out[i, y_test[i]] for i in range(Y_test_predictions_out.shape[0])]) + np.log(np.exp(Y_test_predictions_out).sum(axis=1))"
   ]
  },
  {
   "cell_type": "code",
   "execution_count": 41,
   "metadata": {},
   "outputs": [
    {
     "data": {
      "text/plain": [
       "(10000, 10000)"
      ]
     },
     "execution_count": 41,
     "metadata": {},
     "output_type": "execute_result"
    }
   ],
   "source": [
    "Y_test_predictions_out[:, y_test].shape"
   ]
  },
  {
   "cell_type": "code",
   "execution_count": 42,
   "metadata": {},
   "outputs": [
    {
     "data": {
      "text/plain": [
       "(1, 10000, 10)"
      ]
     },
     "execution_count": 42,
     "metadata": {},
     "output_type": "execute_result"
    }
   ],
   "source": [
    "Y_test_predictions_out[y_test.reshape((1,-1))].shape"
   ]
  },
  {
   "cell_type": "code",
   "execution_count": 43,
   "metadata": {},
   "outputs": [
    {
     "data": {
      "text/plain": [
       "array([0., 0., 0., ..., 0., 0., 0.], dtype=float32)"
      ]
     },
     "execution_count": 43,
     "metadata": {},
     "output_type": "execute_result"
    }
   ],
   "source": [
    "np.array([Y_test_predictions_out[i, y_test[i]] for i in range(Y_test_predictions_out.shape[0])])"
   ]
  },
  {
   "cell_type": "code",
   "execution_count": 44,
   "metadata": {},
   "outputs": [
    {
     "data": {
      "text/plain": [
       "<matplotlib.image.AxesImage at 0x1684a7d60>"
      ]
     },
     "execution_count": 44,
     "metadata": {},
     "output_type": "execute_result"
    },
    {
     "data": {
      "image/png": "[encoded data removed]",
      "text/plain": [
       "<Figure size 1000x1000 with 1 Axes>"
      ]
     },
     "metadata": {},
     "output_type": "display_data"
    },
    {
     "data": {
      "image/png": "[encoded data removed]",
      "text/plain": [
       "<Figure size 1000x1000 with 1 Axes>"
      ]
     },
     "metadata": {},
     "output_type": "display_data"
    }
   ],
   "source": [
    "sample = [0,1,2,3]\n",
    "loss, x_layer_2, d_layer_1, d_layer_2 = forward_backwards(x_test[sample].reshape((-1, 28*28)), y_test[sample])\n",
    "imshow(d_layer_1.T)\n",
    "figure()\n",
    "imshow(d_layer_2.T)"
   ]
  },
  {
   "cell_type": "code",
   "execution_count": 47,
   "metadata": {},
   "outputs": [
    {
     "name": "stderr",
     "output_type": "stream",
     "text": [
      "  0%|          | 0/1000 [00:00<?, ?it/s]/var/folders/wq/7cvbc6jd411dg1wd3j_ksjv80000gn/T/ipykernel_13192/1995745068.py:18: DeprecationWarning: elementwise comparison failed; this will raise an error in the future.\n",
      "  accuracy = (cc == Y).mean()\n",
      "  0%|          | 0/1000 [00:00<?, ?it/s]\n"
     ]
    },
    {
     "ename": "AttributeError",
     "evalue": "'bool' object has no attribute 'mean'",
     "output_type": "error",
     "traceback": [
      "\u001b[0;31m---------------------------------------------------------------------------\u001b[0m",
      "\u001b[0;31mAttributeError\u001b[0m                            Traceback (most recent call last)",
      "\u001b[1;32m/Users/erirosv/fun/notebooks/mnist_from_scratch.ipynb Cell 17\u001b[0m line \u001b[0;36m1\n\u001b[1;32m     <a href='vscode-notebook-cell:/Users/erirosv/fun/notebooks/mnist_from_scratch.ipynb#X22sZmlsZQ%3D%3D?line=15'>16</a>\u001b[0m t_loss, x_layer_2, d_layer1, d_layer2 \u001b[39m=\u001b[39m forward_backwards(X, Y)\n\u001b[1;32m     <a href='vscode-notebook-cell:/Users/erirosv/fun/notebooks/mnist_from_scratch.ipynb#X22sZmlsZQ%3D%3D?line=16'>17</a>\u001b[0m cc \u001b[39m=\u001b[39m np\u001b[39m.\u001b[39margmax(layer_1, axis\u001b[39m=\u001b[39m\u001b[39m1\u001b[39m)\n\u001b[0;32m---> <a href='vscode-notebook-cell:/Users/erirosv/fun/notebooks/mnist_from_scratch.ipynb#X22sZmlsZQ%3D%3D?line=17'>18</a>\u001b[0m accuracy \u001b[39m=\u001b[39m (cc \u001b[39m==\u001b[39;49m Y)\u001b[39m.\u001b[39;49mmean()\n\u001b[1;32m     <a href='vscode-notebook-cell:/Users/erirosv/fun/notebooks/mnist_from_scratch.ipynb#X22sZmlsZQ%3D%3D?line=19'>20</a>\u001b[0m \u001b[39m# SGD\u001b[39;00m\n\u001b[1;32m     <a href='vscode-notebook-cell:/Users/erirosv/fun/notebooks/mnist_from_scratch.ipynb#X22sZmlsZQ%3D%3D?line=20'>21</a>\u001b[0m layer_1 \u001b[39m=\u001b[39m layer_1 \u001b[39m-\u001b[39m learning_rate \u001b[39m*\u001b[39m d_layer1\n",
      "\u001b[0;31mAttributeError\u001b[0m: 'bool' object has no attribute 'mean'"
     ]
    }
   ],
   "source": [
    "# vaiables\n",
    "learning_rate = 0.001\n",
    "batch_size = 128\n",
    "accuracies, losses = [], []\n",
    "IMG_SIZE = 28*28\n",
    "\n",
    "# init the new layers\n",
    "np.random.seed(1000)\n",
    "l1 = initialize_layer(IMG_SIZE, 128)\n",
    "l2 = initialize_layer(128, 10)\n",
    "\n",
    "for i in (t := trange(1000)):\n",
    "    sample = np.random.randint(0, x_train.shape[0], size=batch_size)\n",
    "    X = x_train[sample].reshape((-1, IMG_SIZE))\n",
    "    Y = y_train[sample]\n",
    "    t_loss, x_layer_2, d_layer1, d_layer2 = forward_backwards(X, Y)\n",
    "    cc = np.argmax(layer_1, axis=1)\n",
    "    accuracy = (cc == Y).mean()\n",
    "\n",
    "    # SGD\n",
    "    layer_1 = layer_1 - learning_rate * d_layer1\n",
    "    layer_2 = layer_2 - learning_rate * d_layer2\n",
    "\n",
    "    loss = t_loss.mean()\n",
    "    losses.append(loss)\n",
    "    accuracies.append(accuracy)\n",
    "    t.set_description(f'accuracy: {accuracy:.2f} loss: {loss:.2f}')\n",
    "\n",
    "plt.ylim(-0.1, 1.1)\n",
    "plot(losses)\n",
    "plot(accuracies)"
   ]
  },
  {
   "cell_type": "code",
   "execution_count": null,
   "metadata": {},
   "outputs": [],
   "source": []
  }
 ],
 "metadata": {
  "kernelspec": {
   "display_name": "Python 3",
   "language": "python",
   "name": "python3"
  },
  "language_info": {
   "codemirror_mode": {
    "name": "ipython",
    "version": 3
   },
   "file_extension": ".py",
   "mimetype": "text/x-python",
   "name": "python",
   "nbconvert_exporter": "python",
   "pygments_lexer": "ipython3",
   "version": "3.10.11"
  },
  "orig_nbformat": 4
 },
 "nbformat": 4,
 "nbformat_minor": 2
}
