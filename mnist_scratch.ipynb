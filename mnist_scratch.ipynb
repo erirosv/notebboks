{
 "cells": [
  {
   "cell_type": "markdown",
   "metadata": {},
   "source": []
  },
  {
   "cell_type": "code",
   "execution_count": 2,
   "metadata": {},
   "outputs": [
    {
     "name": "stdout",
     "output_type": "stream",
     "text": [
      "%pylab is deprecated, use %matplotlib inline and import the required libraries.\n",
      "Populating the interactive namespace from numpy and matplotlib\n"
     ]
    },
    {
     "name": "stderr",
     "output_type": "stream",
     "text": [
      "/Users/erirosv/Library/Python/3.9/lib/python/site-packages/tqdm/auto.py:21: TqdmWarning: IProgress not found. Please update jupyter and ipywidgets. See https://ipywidgets.readthedocs.io/en/stable/user_install.html\n",
      "  from .autonotebook import tqdm as notebook_tqdm\n"
     ]
    }
   ],
   "source": [
    "# initialize libs\n",
    "%pylab inline\n",
    "import numpy as np\n",
    "from tqdm import trange\n",
    "np.set_printoptions(suppress=True)\n",
    "\n",
    "# torch libs\n",
    "import torch\n",
    "import torch.nn as nn \n",
    "import torch.nn.functional as F\n",
    "torch.set_printoptions(sci_mode=False)\n",
    "\n",
    "# load data libs\n",
    "import requests\n",
    "import gzip\n",
    "import os\n",
    "import hashlib\n"
   ]
  },
  {
   "cell_type": "code",
   "execution_count": 3,
   "metadata": {},
   "outputs": [],
   "source": [
    "# getting the data to train the model\n",
    "\n",
    "def get_data(url):\n",
    "    file_path = os.path.join('/tmp', hashlib.md5(url.encode('utf-8')).hexdigest())\n",
    "    if os.path.isfile(file_path):\n",
    "        with open (file_path, 'rb') as f:\n",
    "            data = f.read()\n",
    "    else:\n",
    "        with open(file_path, 'wb') as f:\n",
    "            data = requests.get(url).content\n",
    "            f.write(data)\n",
    "    return np.frombuffer(gzip.decompress(data), dtype = np.uint8).copy()"
   ]
  },
  {
   "cell_type": "code",
   "execution_count": 4,
   "metadata": {},
   "outputs": [],
   "source": [
    "x_train = get_data(\"http://yann.lecun.com/exdb/mnist/train-images-idx3-ubyte.gz\")[0x10:].reshape((-1, 28, 28))\n",
    "y_train = get_data(\"http://yann.lecun.com/exdb/mnist/train-labels-idx1-ubyte.gz\")[8:]\n",
    "x_test = get_data(\"http://yann.lecun.com/exdb/mnist/t10k-images-idx3-ubyte.gz\")[0x10:].reshape((-1, 28, 28))\n",
    "y_test = get_data(\"http://yann.lecun.com/exdb/mnist/t10k-labels-idx1-ubyte.gz\")[8:]"
   ]
  },
  {
   "cell_type": "markdown",
   "metadata": {},
   "source": [
    "Constructing neural network model with torch"
   ]
  },
  {
   "cell_type": "code",
   "execution_count": 5,
   "metadata": {},
   "outputs": [],
   "source": [
    "class ApexNet(torch.nn.Module):\n",
    "    def __init__(self) -> None:\n",
    "        \"\"\"\n",
    "        Initialize class with an constructor and parameters\n",
    "        \"\"\"\n",
    "        super(ApexNet, self).__init__()\n",
    "        self.linear_1 = nn.Linear(784, 128, bias=False)\n",
    "        self.linear_2 = nn.Linear(128, 10, bias=False)\n",
    "        self.soft_max = nn.LogSoftmax(dim=1)\n",
    "\n",
    "    def forward(self, x):\n",
    "        \"\"\"\n",
    "        Forward pass for the model\n",
    "        \"\"\"\n",
    "        x = F.relu(self.linear_1(x))\n",
    "        x = self.linear_2(x)\n",
    "        s = self.soft_max(x)\n",
    "        return x"
   ]
  },
  {
   "cell_type": "markdown",
   "metadata": {},
   "source": [
    "Training the torch model"
   ]
  },
  {
   "cell_type": "code",
   "execution_count": 6,
   "metadata": {},
   "outputs": [
    {
     "name": "stderr",
     "output_type": "stream",
     "text": [
      "loss nan accuracy 0.094: 100%|██████████| 1000/1000 [00:01<00:00, 870.66it/s]                                     \n"
     ]
    },
    {
     "data": {
      "text/plain": [
       "[<matplotlib.lines.Line2D at 0x135d1a880>]"
      ]
     },
     "execution_count": 6,
     "metadata": {},
     "output_type": "execute_result"
    },
    {
     "data": {
      "image/png": "[encoded data removed]",
      "text/plain": [
       "<Figure size 640x480 with 1 Axes>"
      ]
     },
     "metadata": {},
     "output_type": "display_data"
    }
   ],
   "source": [
    "model = ApexNet()\n",
    "\n",
    "# loss function\n",
    "loss_funtion = nn.NLLLoss(reduction='none')\n",
    "# optimizer\n",
    "optimizer = torch.optim.SGD(model.parameters(), lr=0.001, momentum=0)\n",
    "\n",
    "# batch size\n",
    "batch_size = 128\n",
    "\n",
    "# empty lists for loss and accuracy\n",
    "losses = []\n",
    "accuracies = []\n",
    "\n",
    "# loop to train the mdodel\n",
    "for i in (t := trange(1000)):\n",
    "    # creating a sample of random ints\n",
    "    sample = np.random.randint(0, x_train.shape[0], size=(batch_size))\n",
    "    \n",
    "    # loading data into variable X and Y\n",
    "    X = torch.tensor(x_train[sample].reshape((-1, 28*28))).float()\n",
    "    Y = torch.tensor(y_train[sample]).long()\n",
    "    \n",
    "    model.zero_grad()\n",
    "    out = model(X)\n",
    "    cat = torch.argmax(out, dim=1)\n",
    "\n",
    "    # getting the accuracy\n",
    "    accuracy = (cat == Y).float().mean()\n",
    "\n",
    "    # getting loss\n",
    "    loss = loss_funtion(out, Y)\n",
    "    loss = loss.mean()\n",
    "    loss.backward()\n",
    "\n",
    "    # optimizer\n",
    "    optimizer.step()\n",
    "\n",
    "    # getting loss and accuracy and appending them to list repectivly\n",
    "    loss, accuracy = loss.item(), accuracy.item()\n",
    "    losses.append(loss)\n",
    "    accuracies.append(accuracy)\n",
    "\n",
    "    # printing result\n",
    "    t.set_description(\"loss %.3f accuracy %.3f\" % (loss, accuracy))\n",
    "    \n",
    "# printing the data\n",
    "plt.ylim(-0.1, 1.1)\n",
    "plot(losses)\n",
    "plot(accuracies)\n"
   ]
  },
  {
   "cell_type": "code",
   "execution_count": null,
   "metadata": {},
   "outputs": [],
   "source": []
  },
  {
   "cell_type": "code",
   "execution_count": null,
   "metadata": {},
   "outputs": [],
   "source": []
  }
 ],
 "metadata": {
  "kernelspec": {
   "display_name": "Python 3 (ipykernel)",
   "language": "python",
   "name": "python3"
  },
  "language_info": {
   "codemirror_mode": {
    "name": "ipython",
    "version": 3
   },
   "file_extension": ".py",
   "mimetype": "text/x-python",
   "name": "python",
   "nbconvert_exporter": "python",
   "pygments_lexer": "ipython3",
   "version": "3.9.16"
  },
  "vscode": {
   "interpreter": {
    "hash": "aee8b7b246df8f9039afb4144a1f6fd8d2ca17a180786b69acc140d282b71a49"
   }
  }
 },
 "nbformat": 4,
 "nbformat_minor": 2
}
