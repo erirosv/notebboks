{
 "cells": [
  {
   "cell_type": "markdown",
   "metadata": {},
   "source": [
    "# Graph plotting\n",
    "\n"
   ]
  },
  {
   "cell_type": "code",
   "execution_count": 1,
   "metadata": {},
   "outputs": [],
   "source": [
    "import numpy as np\n",
    "import matplotlib.pyplot as plt\n",
    "import math\n",
    "%matplotlib inline"
   ]
  },
  {
   "cell_type": "markdown",
   "metadata": {},
   "source": [
    "## Code"
   ]
  },
  {
   "cell_type": "code",
   "execution_count": 2,
   "metadata": {},
   "outputs": [],
   "source": [
    "# simple fucntion f(x)\n",
    "# scalar vallue function \n",
    "# randomized values to get a scalar value for x and y\n",
    "def f(x):\n",
    "    '''\n",
    "    simple fucntion f(x) with a derivative \n",
    "    scalar vallue function \n",
    "    randomized values to get a scalar value for x and y\n",
    "    ---\n",
    "    change them and play around with them for better preformance.\n",
    "    '''\n",
    "    ret = 3*x**2 - 4*x + 5\n",
    "    return ret"
   ]
  },
  {
   "cell_type": "markdown",
   "metadata": {},
   "source": [
    "The derivative of a function \\( f(x) \\) at a point \\( x = a \\) is defined as:\n",
    "\n",
    "$$\n",
    "f'(a) = \\lim_{h \\to 0} \\frac{f(a + h) - f(a)}{h}\n",
    "$$\n",
    "\n",
    "See how much the slope of the graph is changing depending on the value of *h*. "
   ]
  },
  {
   "cell_type": "code",
   "execution_count": 3,
   "metadata": {},
   "outputs": [
    {
     "name": "stdout",
     "output_type": "stream",
     "text": [
      "d1: 7.0\n",
      "d2: 6.999999500000001\n",
      "slope: -4.9999999873762135\n"
     ]
    }
   ],
   "source": [
    "# simple calculation of an slopoe\n",
    "# change variables and play around \n",
    "a = 2.0\n",
    "b = -5.0\n",
    "c = 17\n",
    "h = 0.0000001\n",
    "\n",
    "d1 = a * b + c\n",
    "a += h\n",
    "d2 = a * b + c\n",
    "slope = (d2 - d1) / h\n",
    "\n",
    "print(f'd1: {d1}')\n",
    "print(f'd2: {d2}')\n",
    "print(f'slope: {slope}')"
   ]
  },
  {
   "cell_type": "markdown",
   "metadata": {},
   "source": [
    "### Creating a vlaue class to make mathematical expressions "
   ]
  },
  {
   "cell_type": "code",
   "execution_count": 4,
   "metadata": {},
   "outputs": [],
   "source": [
    "class Expression:\n",
    "    def __init__(self, data, _child=(), _operation='') -> None:\n",
    "        ''' \n",
    "        Parameters:\n",
    "        -----------\n",
    "        data = variable\n",
    "        _child = default is an ampty touple. \n",
    "                Kepp pointers to track how the different \n",
    "                exprtessions are connected to each other.\n",
    "        _operation = stores the mathematical symbol\n",
    "\n",
    "        Variables:\n",
    "        ----------\n",
    "        data = an Expression type\n",
    "        _previous = a set of the parameter _child\n",
    "        '''\n",
    "        self.data = data\n",
    "        self._previous = set(_child)\n",
    "        self._operation = _operation\n",
    "\n",
    "    def __repr__(self) -> str:\n",
    "        return f'Object: Expression(value={self.data})'\n",
    "    \n",
    "    def __add__(self, b):\n",
    "        '''\n",
    "        When this method is called, the internal calling will be the following:\n",
    "        a.__add__(b) -> return c\n",
    "        (self, b) -> is the children for tracking the order \n",
    "        '''\n",
    "        ret = Expression(self.data + b.data, (self, b), '+')\n",
    "        return ret\n",
    "    \n",
    "    def __mul__(self, b):\n",
    "        '''\n",
    "        When this method is called, the internal calling will be the following:\n",
    "        a.__mul__(b) -> return c\n",
    "        (self, b) -> is the children for tracking the order\n",
    "        '''\n",
    "        ret = Expression(self.data * b.data, (self, b), '*')\n",
    "        return ret\n",
    "    \n"
   ]
  },
  {
   "cell_type": "code",
   "execution_count": 5,
   "metadata": {},
   "outputs": [
    {
     "data": {
      "text/plain": [
       "{Object: Expression(value=8.0), Object: Expression(value=8.0)}"
      ]
     },
     "execution_count": 5,
     "metadata": {},
     "output_type": "execute_result"
    }
   ],
   "source": [
    "# testing the Expressions\n",
    "x = Expression(2.0)\n",
    "y = Expression(4.0)\n",
    "z = Expression(8.0)\n",
    "result = x * y + z\n",
    "result._previous"
   ]
  },
  {
   "cell_type": "markdown",
   "metadata": {},
   "source": [
    "### Visualization of the expressions"
   ]
  },
  {
   "cell_type": "code",
   "execution_count": 8,
   "metadata": {},
   "outputs": [
    {
     "ename": "ModuleNotFoundError",
     "evalue": "No module named 'graphviz'",
     "output_type": "error",
     "traceback": [
      "\u001b[0;31m---------------------------------------------------------------------------\u001b[0m",
      "\u001b[0;31mModuleNotFoundError\u001b[0m                       Traceback (most recent call last)",
      "Cell \u001b[0;32mIn[8], line 1\u001b[0m\n\u001b[0;32m----> 1\u001b[0m \u001b[38;5;28;01mfrom\u001b[39;00m \u001b[38;5;21;01mgraphviz\u001b[39;00m \u001b[38;5;28;01mimport\u001b[39;00m Digraph\n\u001b[1;32m      2\u001b[0m \u001b[38;5;66;03m#import graphviz\u001b[39;00m\n",
      "\u001b[0;31mModuleNotFoundError\u001b[0m: No module named 'graphviz'"
     ]
    }
   ],
   "source": [
    "from graphviz import Digraph\n",
    "#import graphviz"
   ]
  },
  {
   "cell_type": "code",
   "execution_count": null,
   "metadata": {},
   "outputs": [],
   "source": []
  },
  {
   "cell_type": "code",
   "execution_count": null,
   "metadata": {},
   "outputs": [],
   "source": []
  }
 ],
 "metadata": {
  "kernelspec": {
   "display_name": "homebrew",
   "language": "python",
   "name": "python3"
  },
  "language_info": {
   "codemirror_mode": {
    "name": "ipython",
    "version": 3
   },
   "file_extension": ".py",
   "mimetype": "text/x-python",
   "name": "python",
   "nbconvert_exporter": "python",
   "pygments_lexer": "ipython3",
   "version": "3.10.11"
  }
 },
 "nbformat": 4,
 "nbformat_minor": 2
}
